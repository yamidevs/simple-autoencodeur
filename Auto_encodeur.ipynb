{
  "nbformat": 4,
  "nbformat_minor": 0,
  "metadata": {
    "colab": {
      "name": "Auto encodeur",
      "provenance": [],
      "collapsed_sections": [],
      "authorship_tag": "ABX9TyPC7rwulhj1OUrXxfkXIBKK",
      "include_colab_link": true
    },
    "kernelspec": {
      "name": "python3",
      "display_name": "Python 3"
    },
    "accelerator": "GPU"
  },
  "cells": [
    {
      "cell_type": "markdown",
      "metadata": {
        "id": "view-in-github",
        "colab_type": "text"
      },
      "source": [
        "<a href=\"https://colab.research.google.com/github/yamidevs/simple-autoencodeur/blob/main/Auto_encodeur.ipynb\" target=\"_parent\"><img src=\"https://colab.research.google.com/assets/colab-badge.svg\" alt=\"Open In Colab\"/></a>"
      ]
    },
    {
      "cell_type": "code",
      "metadata": {
        "colab": {
          "base_uri": "https://localhost:8080/"
        },
        "id": "pTm0dc_G0mDS",
        "outputId": "825fb276-b7d6-4a20-b4ed-a94f3cf950d2"
      },
      "source": [
        "!git init"
      ],
      "execution_count": 53,
      "outputs": [
        {
          "output_type": "stream",
          "text": [
            "Initialized empty Git repository in /content/.git/\n"
          ],
          "name": "stdout"
        }
      ]
    },
    {
      "cell_type": "code",
      "metadata": {
        "id": "LZqPTWfv0qhT"
      },
      "source": [
        "!git add -A"
      ],
      "execution_count": 54,
      "outputs": []
    },
    {
      "cell_type": "code",
      "metadata": {
        "id": "9pJXmQ7801UY"
      },
      "source": [
        "!git config --global user.name \"Yamo\"\n",
        "!git config --global user.email \"yamisaaf@live.fr\""
      ],
      "execution_count": 59,
      "outputs": []
    },
    {
      "cell_type": "code",
      "metadata": {
        "colab": {
          "base_uri": "https://localhost:8080/"
        },
        "id": "r0Zh06bq0wbB",
        "outputId": "c7936f02-22e8-47db-9fac-283baffe0b66"
      },
      "source": [
        "!git commit -m “autoencodeur”"
      ],
      "execution_count": 60,
      "outputs": [
        {
          "output_type": "stream",
          "text": [
            "[master (root-commit) d0c3e39] “autoencodeur”\n",
            " 20 files changed, 50715 insertions(+)\n",
            " create mode 100644 .config/.last_opt_in_prompt.yaml\n",
            " create mode 100644 .config/.last_survey_prompt.yaml\n",
            " create mode 100644 .config/.last_update_check.json\n",
            " create mode 100644 .config/.metricsUUID\n",
            " create mode 100644 .config/active_config\n",
            " create mode 100644 .config/config_sentinel\n",
            " create mode 100644 .config/configurations/config_default\n",
            " create mode 100644 .config/gce\n",
            " create mode 100644 .config/logs/2020.12.02/22.03.37.873126.log\n",
            " create mode 100644 .config/logs/2020.12.02/22.03.59.234441.log\n",
            " create mode 100644 .config/logs/2020.12.02/22.04.13.854338.log\n",
            " create mode 100644 .config/logs/2020.12.02/22.04.21.823807.log\n",
            " create mode 100644 .config/logs/2020.12.02/22.04.37.441505.log\n",
            " create mode 100644 .config/logs/2020.12.02/22.04.38.150307.log\n",
            " create mode 100755 sample_data/README.md\n",
            " create mode 100755 sample_data/anscombe.json\n",
            " create mode 100644 sample_data/california_housing_test.csv\n",
            " create mode 100644 sample_data/california_housing_train.csv\n",
            " create mode 100644 sample_data/mnist_test.csv\n",
            " create mode 100644 sample_data/mnist_train_small.csv\n"
          ],
          "name": "stdout"
        }
      ]
    },
    {
      "cell_type": "code",
      "metadata": {
        "id": "B50FRRNQiT8k"
      },
      "source": [
        "import torch\n",
        "import torch.nn as nn\n",
        "import torch.optim as optim\n",
        "import torchvision\n",
        "import matplotlib.pyplot as plt\n",
        "import numpy as np"
      ],
      "execution_count": null,
      "outputs": []
    },
    {
      "cell_type": "code",
      "metadata": {
        "id": "-cZDaIIJhi_Y"
      },
      "source": [
        "class AE(nn.Module):\n",
        "    def __init__(self, **kwargs):\n",
        "        super().__init__()\n",
        "        self.encoder_hidden_layer = nn.Linear(\n",
        "            in_features=kwargs[\"input_shape\"], out_features=128\n",
        "        )\n",
        "        self.encoder_output_layer = nn.Linear(\n",
        "            in_features=128, out_features=128\n",
        "        )\n",
        "        self.decoder_hidden_layer = nn.Linear(\n",
        "            in_features=128, out_features=128\n",
        "        )\n",
        "        self.decoder_output_layer = nn.Linear(\n",
        "            in_features=128, out_features=kwargs[\"input_shape\"]\n",
        "        )\n",
        "\n",
        "    def forward(self, features):\n",
        "        activation = self.encoder_hidden_layer(features)\n",
        "        activation = torch.relu(activation)\n",
        "        code = self.encoder_output_layer(activation)\n",
        "        code = torch.relu(code)\n",
        "        activation = self.decoder_hidden_layer(code)\n",
        "        activation = torch.relu(activation)\n",
        "        activation = self.decoder_output_layer(activation)\n",
        "        reconstructed = torch.relu(activation)\n",
        "        return reconstructed"
      ],
      "execution_count": null,
      "outputs": []
    },
    {
      "cell_type": "code",
      "metadata": {
        "id": "yDoC1WKdiYzS"
      },
      "source": [
        "device = torch.device(\"cuda\" if torch.cuda.is_available() else \"cpu\")\n",
        "model = AE(input_shape = 784).to(device)\n",
        "optimizer = optim.Adam(model.parameters(),lr = 1e-3)\n",
        "criteron = nn.MSELoss()"
      ],
      "execution_count": null,
      "outputs": []
    },
    {
      "cell_type": "code",
      "metadata": {
        "id": "t2RmMqv1k_5e"
      },
      "source": [
        "transform = torchvision.transforms.Compose([torchvision.transforms.ToTensor()])\n",
        "\n",
        "train_dataset = torchvision.datasets.MNIST(\n",
        "    root=\"~/torch_datasets\", train=True, transform=transform, download=True\n",
        ")\n",
        "\n",
        "test_dataset = torchvision.datasets.MNIST(\n",
        "    root=\"~/torch_datasets\", train=False, transform=transform, download=True\n",
        ")\n",
        "\n",
        "train_loader = torch.utils.data.DataLoader(\n",
        "    train_dataset, batch_size=128, shuffle=True, num_workers=4, pin_memory=True\n",
        ")\n",
        "\n",
        "test_loader = torch.utils.data.DataLoader(\n",
        "    test_dataset, batch_size=10, shuffle=False, num_workers=4\n",
        ")"
      ],
      "execution_count": null,
      "outputs": []
    },
    {
      "cell_type": "code",
      "metadata": {
        "colab": {
          "base_uri": "https://localhost:8080/"
        },
        "id": "7Wqvse-Jjqe-",
        "outputId": "6082dbf0-4348-4893-b677-e9cb85e1edc6"
      },
      "source": [
        "epochs = 100\n",
        "for epoch in range(epochs):\n",
        "  loss = 0\n",
        "  for batch_features,_ in train_loader:\n",
        "      batch_features = batch_features.view(-1,784).to(device)\n",
        "      optimizer.zero_grad()\n",
        "      outputs = model(batch_features)\n",
        "      train_loss = criteron(outputs,batch_features)\n",
        "      train_loss.backward()\n",
        "      optimizer.step()\n",
        "      loss += train_loss.item()\n",
        "  loss = loss / len(train_loader)\n",
        "  print(\"epoch : {}/{}, loss = {:.6f}\".format(epoch + 1, epochs, loss))"
      ],
      "execution_count": null,
      "outputs": [
        {
          "output_type": "stream",
          "text": [
            "epoch : 1/100, loss = 0.014507\n",
            "epoch : 2/100, loss = 0.014248\n",
            "epoch : 3/100, loss = 0.014019\n",
            "epoch : 4/100, loss = 0.013840\n",
            "epoch : 5/100, loss = 0.013698\n",
            "epoch : 6/100, loss = 0.013575\n",
            "epoch : 7/100, loss = 0.013461\n",
            "epoch : 8/100, loss = 0.013350\n",
            "epoch : 9/100, loss = 0.013260\n",
            "epoch : 10/100, loss = 0.013174\n",
            "epoch : 11/100, loss = 0.013103\n",
            "epoch : 12/100, loss = 0.013036\n",
            "epoch : 13/100, loss = 0.012972\n",
            "epoch : 14/100, loss = 0.012911\n",
            "epoch : 15/100, loss = 0.012859\n",
            "epoch : 16/100, loss = 0.012810\n",
            "epoch : 17/100, loss = 0.012762\n",
            "epoch : 18/100, loss = 0.012718\n",
            "epoch : 19/100, loss = 0.012674\n",
            "epoch : 20/100, loss = 0.012635\n",
            "epoch : 21/100, loss = 0.012595\n",
            "epoch : 22/100, loss = 0.012559\n",
            "epoch : 23/100, loss = 0.012528\n",
            "epoch : 24/100, loss = 0.012491\n",
            "epoch : 25/100, loss = 0.012459\n",
            "epoch : 26/100, loss = 0.012426\n",
            "epoch : 27/100, loss = 0.012409\n",
            "epoch : 28/100, loss = 0.012383\n",
            "epoch : 29/100, loss = 0.012352\n",
            "epoch : 30/100, loss = 0.012341\n",
            "epoch : 31/100, loss = 0.012320\n",
            "epoch : 32/100, loss = 0.012313\n",
            "epoch : 33/100, loss = 0.012285\n",
            "epoch : 34/100, loss = 0.012278\n",
            "epoch : 35/100, loss = 0.012262\n",
            "epoch : 36/100, loss = 0.012244\n",
            "epoch : 37/100, loss = 0.012232\n",
            "epoch : 38/100, loss = 0.012212\n",
            "epoch : 39/100, loss = 0.012205\n",
            "epoch : 40/100, loss = 0.012185\n",
            "epoch : 41/100, loss = 0.012175\n",
            "epoch : 42/100, loss = 0.012160\n",
            "epoch : 43/100, loss = 0.012155\n",
            "epoch : 44/100, loss = 0.012136\n",
            "epoch : 45/100, loss = 0.012137\n",
            "epoch : 46/100, loss = 0.012125\n",
            "epoch : 47/100, loss = 0.012115\n",
            "epoch : 48/100, loss = 0.012109\n",
            "epoch : 49/100, loss = 0.012098\n",
            "epoch : 50/100, loss = 0.012108\n",
            "epoch : 51/100, loss = 0.012087\n",
            "epoch : 52/100, loss = 0.012083\n",
            "epoch : 53/100, loss = 0.012078\n",
            "epoch : 54/100, loss = 0.012077\n",
            "epoch : 55/100, loss = 0.012073\n",
            "epoch : 56/100, loss = 0.012067\n",
            "epoch : 57/100, loss = 0.012063\n",
            "epoch : 58/100, loss = 0.012057\n",
            "epoch : 59/100, loss = 0.012047\n",
            "epoch : 60/100, loss = 0.012047\n",
            "epoch : 61/100, loss = 0.012037\n",
            "epoch : 62/100, loss = 0.012036\n",
            "epoch : 63/100, loss = 0.012033\n",
            "epoch : 64/100, loss = 0.012021\n",
            "epoch : 65/100, loss = 0.012019\n",
            "epoch : 66/100, loss = 0.012012\n",
            "epoch : 67/100, loss = 0.012008\n",
            "epoch : 68/100, loss = 0.012008\n",
            "epoch : 69/100, loss = 0.011999\n",
            "epoch : 70/100, loss = 0.011992\n",
            "epoch : 71/100, loss = 0.011995\n",
            "epoch : 72/100, loss = 0.011985\n",
            "epoch : 73/100, loss = 0.011982\n",
            "epoch : 74/100, loss = 0.011977\n",
            "epoch : 75/100, loss = 0.011970\n",
            "epoch : 76/100, loss = 0.011964\n",
            "epoch : 77/100, loss = 0.011958\n",
            "epoch : 78/100, loss = 0.011961\n",
            "epoch : 79/100, loss = 0.011953\n",
            "epoch : 80/100, loss = 0.011946\n",
            "epoch : 81/100, loss = 0.011945\n",
            "epoch : 82/100, loss = 0.011941\n",
            "epoch : 83/100, loss = 0.011934\n",
            "epoch : 84/100, loss = 0.011927\n",
            "epoch : 85/100, loss = 0.011920\n",
            "epoch : 86/100, loss = 0.011912\n",
            "epoch : 87/100, loss = 0.011911\n",
            "epoch : 88/100, loss = 0.011903\n",
            "epoch : 89/100, loss = 0.011901\n",
            "epoch : 90/100, loss = 0.011898\n",
            "epoch : 91/100, loss = 0.011892\n",
            "epoch : 92/100, loss = 0.011891\n",
            "epoch : 93/100, loss = 0.011886\n",
            "epoch : 94/100, loss = 0.011884\n",
            "epoch : 95/100, loss = 0.011881\n",
            "epoch : 96/100, loss = 0.011882\n",
            "epoch : 97/100, loss = 0.011880\n",
            "epoch : 98/100, loss = 0.011874\n",
            "epoch : 99/100, loss = 0.011874\n",
            "epoch : 100/100, loss = 0.011876\n"
          ],
          "name": "stdout"
        }
      ]
    },
    {
      "cell_type": "code",
      "metadata": {
        "colab": {
          "base_uri": "https://localhost:8080/",
          "height": 265
        },
        "id": "LzoHvLkipS3-",
        "outputId": "42f627c5-9200-46a2-97d3-8cdfa6de2ab3"
      },
      "source": [
        "for batch,_ in test_loader:\n",
        "    entry = batch[0].view(-1,784).to(device)\n",
        "    reconstruct = model(entry)\n",
        "    plt.imshow(reconstruct.detach().cpu().numpy().reshape(28,28))\n",
        "\n",
        "    plt.gray()\n",
        "    break"
      ],
      "execution_count": null,
      "outputs": [
        {
          "output_type": "display_data",
          "data": {
            "image/png": "[encoded data removed]",
            "text/plain": [
              "<Figure size 432x288 with 1 Axes>"
            ]
          },
          "metadata": {
            "tags": [],
            "needs_background": "light"
          }
        }
      ]
    },
    {
      "cell_type": "code",
      "metadata": {
        "id": "IIzjBKvswELH"
      },
      "source": [
        ""
      ],
      "execution_count": null,
      "outputs": []
    }
  ]
}